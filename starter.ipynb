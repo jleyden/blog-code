{
 "cells": [
  {
   "cell_type": "markdown",
   "metadata": {},
   "source": [
    "# [ERG-190C] Homework 2: Pandas EPA Air Quality\n",
    "\n",
    "---\n",
    "\n",
    "## Table of Contents\n",
    "[Introduction](#intro)<br>\n",
    "1 - [Downloading the Data](#data)<br>\n",
    "2 - [Preparing the Data](#prep)<br>\n",
    "3 - [Exploring Data with Pandas](#explore)<br>\n",
    "4 - [California Data](#cadata)<br>\n",
    "\n",
    "# Introduction <a id='intro'></a>\n",
    "\n",
    "In this homework, we will investigate air quality data retreived from the EPA. The main goal for this assignment is to understand how PM2.5 FRM/FEM Mass effects air quality. We will accomplish this by analyzing EPA data and utilizing pandas (a powerful Python data analysis toolkit). To give us a sense of how we think about each discovery we make and what next steps it leads to we will provide comments and insights along the way.\n",
    "\n",
    "### Topics Covered\n",
    "\n",
    "As we clean and explore these data, you will gain practice with:\n",
    "* Manipulating tables and parts of the table (column, index)\n",
    "* Identifying the type of data collected, missing values, anomalies, etc.\n",
    "* Computing numeric operations (mean, variance)\n",
    "* Merging and analyzing data sets"
   ]
  },
  {
   "cell_type": "markdown",
   "metadata": {},
   "source": [
    "----\n",
    "\n",
    "## Section 1: Downloading the Data<a id='data'></a>"
   ]
  },
  {
   "cell_type": "code",
   "execution_count": 189,
   "metadata": {},
   "outputs": [],
   "source": [
    "#Run this cell\n",
    "from pathlib import Path\n",
    "import sys\n",
    "import math\n",
    "import zipfile\n",
    "%matplotlib inline\n",
    "import matplotlib.pyplot as plt"
   ]
  },
  {
   "cell_type": "code",
   "execution_count": 190,
   "metadata": {},
   "outputs": [],
   "source": [
    "import pandas as pd\n",
    "import numpy as np"
   ]
  },
  {
   "cell_type": "code",
   "execution_count": 191,
   "metadata": {},
   "outputs": [],
   "source": [
    "aqi = pd.read_csv('./data/annual_aqi_by_county_2018.csv')\n",
    "incomes = pd.read_csv('./data/ACS_16_5YR_S1901_with_ann.csv')"
   ]
  },
  {
   "cell_type": "code",
   "execution_count": 192,
   "metadata": {},
   "outputs": [
    {
     "data": {
      "text/plain": [
       "GEO.id                                                              Id\n",
       "GEO.id2                                                            Id2\n",
       "GEO.display-label                                            Geography\n",
       "HC01_EST_VC01                              Households; Estimate; Total\n",
       "HC01_MOE_VC01                       Households; Margin of Error; Total\n",
       "HC02_EST_VC01                                Families; Estimate; Total\n",
       "HC02_MOE_VC01                         Families; Margin of Error; Total\n",
       "HC03_EST_VC01                 Married-couple families; Estimate; Total\n",
       "HC03_MOE_VC01          Married-couple families; Margin of Error; Total\n",
       "HC04_EST_VC01                    Nonfamily households; Estimate; Total\n",
       "HC04_MOE_VC01             Nonfamily households; Margin of Error; Total\n",
       "HC01_EST_VC02                  Households; Estimate; Less than $10,000\n",
       "HC01_MOE_VC02           Households; Margin of Error; Less than $10,000\n",
       "HC02_EST_VC02                    Families; Estimate; Less than $10,000\n",
       "HC02_MOE_VC02             Families; Margin of Error; Less than $10,000\n",
       "HC03_EST_VC02        Married-couple families; Estimate; Less than $...\n",
       "HC03_MOE_VC02        Married-couple families; Margin of Error; Less...\n",
       "HC04_EST_VC02        Nonfamily households; Estimate; Less than $10,000\n",
       "HC04_MOE_VC02        Nonfamily households; Margin of Error; Less th...\n",
       "HC01_EST_VC03                 Households; Estimate; $10,000 to $14,999\n",
       "HC01_MOE_VC03          Households; Margin of Error; $10,000 to $14,999\n",
       "HC02_EST_VC03                   Families; Estimate; $10,000 to $14,999\n",
       "HC02_MOE_VC03            Families; Margin of Error; $10,000 to $14,999\n",
       "HC03_EST_VC03        Married-couple families; Estimate; $10,000 to ...\n",
       "HC03_MOE_VC03        Married-couple families; Margin of Error; $10,...\n",
       "HC04_EST_VC03        Nonfamily households; Estimate; $10,000 to $14...\n",
       "HC04_MOE_VC03        Nonfamily households; Margin of Error; $10,000...\n",
       "HC01_EST_VC04                 Households; Estimate; $15,000 to $24,999\n",
       "HC01_MOE_VC04          Households; Margin of Error; $15,000 to $24,999\n",
       "HC02_EST_VC04                   Families; Estimate; $15,000 to $24,999\n",
       "                                           ...                        \n",
       "HC02_EST_VC15                Families; Estimate; Mean income (dollars)\n",
       "HC02_MOE_VC15         Families; Margin of Error; Mean income (dollars)\n",
       "HC03_EST_VC15        Married-couple families; Estimate; Mean income...\n",
       "HC03_MOE_VC15        Married-couple families; Margin of Error; Mean...\n",
       "HC04_EST_VC15        Nonfamily households; Estimate; Mean income (d...\n",
       "HC04_MOE_VC15        Nonfamily households; Margin of Error; Mean in...\n",
       "HC01_EST_VC18        Households; Estimate; PERCENT ALLOCATED - Hous...\n",
       "HC01_MOE_VC18        Households; Margin of Error; PERCENT ALLOCATED...\n",
       "HC02_EST_VC18        Families; Estimate; PERCENT ALLOCATED - Househ...\n",
       "HC02_MOE_VC18        Families; Margin of Error; PERCENT ALLOCATED -...\n",
       "HC03_EST_VC18        Married-couple families; Estimate; PERCENT ALL...\n",
       "HC03_MOE_VC18        Married-couple families; Margin of Error; PERC...\n",
       "HC04_EST_VC18        Nonfamily households; Estimate; PERCENT ALLOCA...\n",
       "HC04_MOE_VC18        Nonfamily households; Margin of Error; PERCENT...\n",
       "HC01_EST_VC19        Households; Estimate; PERCENT ALLOCATED - Fami...\n",
       "HC01_MOE_VC19        Households; Margin of Error; PERCENT ALLOCATED...\n",
       "HC02_EST_VC19        Families; Estimate; PERCENT ALLOCATED - Family...\n",
       "HC02_MOE_VC19        Families; Margin of Error; PERCENT ALLOCATED -...\n",
       "HC03_EST_VC19        Married-couple families; Estimate; PERCENT ALL...\n",
       "HC03_MOE_VC19        Married-couple families; Margin of Error; PERC...\n",
       "HC04_EST_VC19        Nonfamily households; Estimate; PERCENT ALLOCA...\n",
       "HC04_MOE_VC19        Nonfamily households; Margin of Error; PERCENT...\n",
       "HC01_EST_VC20        Households; Estimate; PERCENT ALLOCATED - Nonf...\n",
       "HC01_MOE_VC20        Households; Margin of Error; PERCENT ALLOCATED...\n",
       "HC02_EST_VC20        Families; Estimate; PERCENT ALLOCATED - Nonfam...\n",
       "HC02_MOE_VC20        Families; Margin of Error; PERCENT ALLOCATED -...\n",
       "HC03_EST_VC20        Married-couple families; Estimate; PERCENT ALL...\n",
       "HC03_MOE_VC20        Married-couple families; Margin of Error; PERC...\n",
       "HC04_EST_VC20        Nonfamily households; Estimate; PERCENT ALLOCA...\n",
       "HC04_MOE_VC20        Nonfamily households; Margin of Error; PERCENT...\n",
       "Name: 0, Length: 131, dtype: object"
      ]
     },
     "execution_count": 192,
     "metadata": {},
     "output_type": "execute_result"
    }
   ],
   "source": [
    "income_columns = incomes.iloc[0]\n",
    "income_columns"
   ]
  },
  {
   "cell_type": "code",
   "execution_count": 193,
   "metadata": {},
   "outputs": [
    {
     "data": {
      "text/html": [
       "<div>\n",
       "<style scoped>\n",
       "    .dataframe tbody tr th:only-of-type {\n",
       "        vertical-align: middle;\n",
       "    }\n",
       "\n",
       "    .dataframe tbody tr th {\n",
       "        vertical-align: top;\n",
       "    }\n",
       "\n",
       "    .dataframe thead th {\n",
       "        text-align: right;\n",
       "    }\n",
       "</style>\n",
       "<table border=\"1\" class=\"dataframe\">\n",
       "  <thead>\n",
       "    <tr style=\"text-align: right;\">\n",
       "      <th></th>\n",
       "      <th>index</th>\n",
       "      <th>GEO.id</th>\n",
       "      <th>GEO.id2</th>\n",
       "      <th>GEO.display-label</th>\n",
       "      <th>HC01_EST_VC01</th>\n",
       "      <th>HC01_MOE_VC01</th>\n",
       "      <th>HC02_EST_VC01</th>\n",
       "      <th>HC02_MOE_VC01</th>\n",
       "      <th>HC03_EST_VC01</th>\n",
       "      <th>HC03_MOE_VC01</th>\n",
       "      <th>...</th>\n",
       "      <th>HC04_EST_VC19</th>\n",
       "      <th>HC04_MOE_VC19</th>\n",
       "      <th>HC01_EST_VC20</th>\n",
       "      <th>HC01_MOE_VC20</th>\n",
       "      <th>HC02_EST_VC20</th>\n",
       "      <th>HC02_MOE_VC20</th>\n",
       "      <th>HC03_EST_VC20</th>\n",
       "      <th>HC03_MOE_VC20</th>\n",
       "      <th>HC04_EST_VC20</th>\n",
       "      <th>HC04_MOE_VC20</th>\n",
       "    </tr>\n",
       "  </thead>\n",
       "  <tbody>\n",
       "    <tr>\n",
       "      <th>0</th>\n",
       "      <td>1</td>\n",
       "      <td>0500000US01001</td>\n",
       "      <td>1001</td>\n",
       "      <td>Autauga County, Alabama</td>\n",
       "      <td>20800</td>\n",
       "      <td>391</td>\n",
       "      <td>14653</td>\n",
       "      <td>527</td>\n",
       "      <td>11735</td>\n",
       "      <td>505</td>\n",
       "      <td>...</td>\n",
       "      <td>(X)</td>\n",
       "      <td>(X)</td>\n",
       "      <td>(X)</td>\n",
       "      <td>(X)</td>\n",
       "      <td>(X)</td>\n",
       "      <td>(X)</td>\n",
       "      <td>(X)</td>\n",
       "      <td>(X)</td>\n",
       "      <td>29.5</td>\n",
       "      <td>(X)</td>\n",
       "    </tr>\n",
       "    <tr>\n",
       "      <th>1</th>\n",
       "      <td>2</td>\n",
       "      <td>0500000US01003</td>\n",
       "      <td>1003</td>\n",
       "      <td>Baldwin County, Alabama</td>\n",
       "      <td>75149</td>\n",
       "      <td>1285</td>\n",
       "      <td>50190</td>\n",
       "      <td>1356</td>\n",
       "      <td>40093</td>\n",
       "      <td>1163</td>\n",
       "      <td>...</td>\n",
       "      <td>(X)</td>\n",
       "      <td>(X)</td>\n",
       "      <td>(X)</td>\n",
       "      <td>(X)</td>\n",
       "      <td>(X)</td>\n",
       "      <td>(X)</td>\n",
       "      <td>(X)</td>\n",
       "      <td>(X)</td>\n",
       "      <td>28.2</td>\n",
       "      <td>(X)</td>\n",
       "    </tr>\n",
       "    <tr>\n",
       "      <th>2</th>\n",
       "      <td>3</td>\n",
       "      <td>0500000US01005</td>\n",
       "      <td>1005</td>\n",
       "      <td>Barbour County, Alabama</td>\n",
       "      <td>9122</td>\n",
       "      <td>286</td>\n",
       "      <td>5968</td>\n",
       "      <td>260</td>\n",
       "      <td>3968</td>\n",
       "      <td>223</td>\n",
       "      <td>...</td>\n",
       "      <td>(X)</td>\n",
       "      <td>(X)</td>\n",
       "      <td>(X)</td>\n",
       "      <td>(X)</td>\n",
       "      <td>(X)</td>\n",
       "      <td>(X)</td>\n",
       "      <td>(X)</td>\n",
       "      <td>(X)</td>\n",
       "      <td>26.9</td>\n",
       "      <td>(X)</td>\n",
       "    </tr>\n",
       "    <tr>\n",
       "      <th>3</th>\n",
       "      <td>4</td>\n",
       "      <td>0500000US01007</td>\n",
       "      <td>1007</td>\n",
       "      <td>Bibb County, Alabama</td>\n",
       "      <td>7048</td>\n",
       "      <td>352</td>\n",
       "      <td>5272</td>\n",
       "      <td>329</td>\n",
       "      <td>3928</td>\n",
       "      <td>360</td>\n",
       "      <td>...</td>\n",
       "      <td>(X)</td>\n",
       "      <td>(X)</td>\n",
       "      <td>(X)</td>\n",
       "      <td>(X)</td>\n",
       "      <td>(X)</td>\n",
       "      <td>(X)</td>\n",
       "      <td>(X)</td>\n",
       "      <td>(X)</td>\n",
       "      <td>38.8</td>\n",
       "      <td>(X)</td>\n",
       "    </tr>\n",
       "    <tr>\n",
       "      <th>4</th>\n",
       "      <td>5</td>\n",
       "      <td>0500000US01009</td>\n",
       "      <td>1009</td>\n",
       "      <td>Blount County, Alabama</td>\n",
       "      <td>20619</td>\n",
       "      <td>403</td>\n",
       "      <td>15439</td>\n",
       "      <td>475</td>\n",
       "      <td>12314</td>\n",
       "      <td>480</td>\n",
       "      <td>...</td>\n",
       "      <td>(X)</td>\n",
       "      <td>(X)</td>\n",
       "      <td>(X)</td>\n",
       "      <td>(X)</td>\n",
       "      <td>(X)</td>\n",
       "      <td>(X)</td>\n",
       "      <td>(X)</td>\n",
       "      <td>(X)</td>\n",
       "      <td>26.8</td>\n",
       "      <td>(X)</td>\n",
       "    </tr>\n",
       "  </tbody>\n",
       "</table>\n",
       "<p>5 rows × 132 columns</p>\n",
       "</div>"
      ],
      "text/plain": [
       "   index          GEO.id GEO.id2        GEO.display-label HC01_EST_VC01  \\\n",
       "0      1  0500000US01001    1001  Autauga County, Alabama         20800   \n",
       "1      2  0500000US01003    1003  Baldwin County, Alabama         75149   \n",
       "2      3  0500000US01005    1005  Barbour County, Alabama          9122   \n",
       "3      4  0500000US01007    1007     Bibb County, Alabama          7048   \n",
       "4      5  0500000US01009    1009   Blount County, Alabama         20619   \n",
       "\n",
       "  HC01_MOE_VC01 HC02_EST_VC01 HC02_MOE_VC01 HC03_EST_VC01 HC03_MOE_VC01  \\\n",
       "0           391         14653           527         11735           505   \n",
       "1          1285         50190          1356         40093          1163   \n",
       "2           286          5968           260          3968           223   \n",
       "3           352          5272           329          3928           360   \n",
       "4           403         15439           475         12314           480   \n",
       "\n",
       "       ...      HC04_EST_VC19 HC04_MOE_VC19 HC01_EST_VC20 HC01_MOE_VC20  \\\n",
       "0      ...                (X)           (X)           (X)           (X)   \n",
       "1      ...                (X)           (X)           (X)           (X)   \n",
       "2      ...                (X)           (X)           (X)           (X)   \n",
       "3      ...                (X)           (X)           (X)           (X)   \n",
       "4      ...                (X)           (X)           (X)           (X)   \n",
       "\n",
       "  HC02_EST_VC20 HC02_MOE_VC20 HC03_EST_VC20 HC03_MOE_VC20 HC04_EST_VC20  \\\n",
       "0           (X)           (X)           (X)           (X)          29.5   \n",
       "1           (X)           (X)           (X)           (X)          28.2   \n",
       "2           (X)           (X)           (X)           (X)          26.9   \n",
       "3           (X)           (X)           (X)           (X)          38.8   \n",
       "4           (X)           (X)           (X)           (X)          26.8   \n",
       "\n",
       "  HC04_MOE_VC20  \n",
       "0           (X)  \n",
       "1           (X)  \n",
       "2           (X)  \n",
       "3           (X)  \n",
       "4           (X)  \n",
       "\n",
       "[5 rows x 132 columns]"
      ]
     },
     "execution_count": 193,
     "metadata": {},
     "output_type": "execute_result"
    }
   ],
   "source": [
    "incomes = incomes.iloc[1:].reset_index()\n",
    "incomes.head()"
   ]
  },
  {
   "cell_type": "code",
   "execution_count": 194,
   "metadata": {},
   "outputs": [],
   "source": [
    "first = incomes['GEO.display-label'][0]"
   ]
  },
  {
   "cell_type": "code",
   "execution_count": 195,
   "metadata": {},
   "outputs": [
    {
     "data": {
      "text/plain": [
       "'Autauga County, Alabama'"
      ]
     },
     "execution_count": 195,
     "metadata": {},
     "output_type": "execute_result"
    }
   ],
   "source": [
    "first"
   ]
  },
  {
   "cell_type": "code",
   "execution_count": 196,
   "metadata": {},
   "outputs": [
    {
     "data": {
      "text/plain": [
       "['Autauga', 'Alabama']"
      ]
     },
     "execution_count": 196,
     "metadata": {},
     "output_type": "execute_result"
    }
   ],
   "source": [
    "lst = first.split(sep=' County, ')\n",
    "lst"
   ]
  },
  {
   "cell_type": "code",
   "execution_count": 197,
   "metadata": {},
   "outputs": [
    {
     "data": {
      "text/plain": [
       "'Autauga'"
      ]
     },
     "execution_count": 197,
     "metadata": {},
     "output_type": "execute_result"
    }
   ],
   "source": [
    "county = lst[0]\n",
    "county"
   ]
  },
  {
   "cell_type": "code",
   "execution_count": 198,
   "metadata": {},
   "outputs": [
    {
     "data": {
      "text/plain": [
       "'Alabama'"
      ]
     },
     "execution_count": 198,
     "metadata": {},
     "output_type": "execute_result"
    }
   ],
   "source": [
    "state = lst[1]\n",
    "state"
   ]
  },
  {
   "cell_type": "code",
   "execution_count": 199,
   "metadata": {},
   "outputs": [
    {
     "data": {
      "text/plain": [
       "0    [Autauga, Alabama]\n",
       "1    [Baldwin, Alabama]\n",
       "2    [Barbour, Alabama]\n",
       "3       [Bibb, Alabama]\n",
       "4     [Blount, Alabama]\n",
       "Name: GEO.display-label, dtype: object"
      ]
     },
     "execution_count": 199,
     "metadata": {},
     "output_type": "execute_result"
    }
   ],
   "source": [
    "income_ids = incomes['GEO.display-label'].apply(lambda x: x.split(sep=' County, '))\n",
    "incomes['county_id'] = income_ids.astype(str)\n",
    "income_ids.head()"
   ]
  },
  {
   "cell_type": "code",
   "execution_count": 200,
   "metadata": {},
   "outputs": [
    {
     "data": {
      "text/plain": [
       "0       [DeKalb, Alabama]\n",
       "1       [Etowah, Alabama]\n",
       "2    [Jefferson, Alabama]\n",
       "3       [Mobile, Alabama]\n",
       "4       [Morgan, Alabama]\n",
       "dtype: object"
      ]
     },
     "execution_count": 200,
     "metadata": {},
     "output_type": "execute_result"
    }
   ],
   "source": [
    "aqi_ids = aqi.apply(lambda x: [x['County'], x['State']], axis=1)\n",
    "aqi['county_id'] = aqi_ids.astype(str)\n",
    "aqi_ids.head()"
   ]
  },
  {
   "cell_type": "code",
   "execution_count": 201,
   "metadata": {},
   "outputs": [],
   "source": [
    "merged = incomes.merge(aqi, on='county_id')"
   ]
  },
  {
   "cell_type": "code",
   "execution_count": 202,
   "metadata": {},
   "outputs": [
    {
     "data": {
      "text/html": [
       "<div>\n",
       "<style scoped>\n",
       "    .dataframe tbody tr th:only-of-type {\n",
       "        vertical-align: middle;\n",
       "    }\n",
       "\n",
       "    .dataframe tbody tr th {\n",
       "        vertical-align: top;\n",
       "    }\n",
       "\n",
       "    .dataframe thead th {\n",
       "        text-align: right;\n",
       "    }\n",
       "</style>\n",
       "<table border=\"1\" class=\"dataframe\">\n",
       "  <thead>\n",
       "    <tr style=\"text-align: right;\">\n",
       "      <th></th>\n",
       "      <th>index</th>\n",
       "      <th>GEO.id</th>\n",
       "      <th>GEO.id2</th>\n",
       "      <th>GEO.display-label</th>\n",
       "      <th>HC01_EST_VC01</th>\n",
       "      <th>HC01_MOE_VC01</th>\n",
       "      <th>HC02_EST_VC01</th>\n",
       "      <th>HC02_MOE_VC01</th>\n",
       "      <th>HC03_EST_VC01</th>\n",
       "      <th>HC03_MOE_VC01</th>\n",
       "      <th>...</th>\n",
       "      <th>Hazardous Days</th>\n",
       "      <th>Max AQI</th>\n",
       "      <th>90th Percentile AQI</th>\n",
       "      <th>Median AQI</th>\n",
       "      <th>Days CO</th>\n",
       "      <th>Days NO2</th>\n",
       "      <th>Days Ozone</th>\n",
       "      <th>Days SO2</th>\n",
       "      <th>Days PM2.5</th>\n",
       "      <th>Days PM10</th>\n",
       "    </tr>\n",
       "  </thead>\n",
       "  <tbody>\n",
       "    <tr>\n",
       "      <th>0</th>\n",
       "      <td>25</td>\n",
       "      <td>0500000US01049</td>\n",
       "      <td>1049</td>\n",
       "      <td>DeKalb County, Alabama</td>\n",
       "      <td>24811</td>\n",
       "      <td>497</td>\n",
       "      <td>17495</td>\n",
       "      <td>651</td>\n",
       "      <td>13443</td>\n",
       "      <td>637</td>\n",
       "      <td>...</td>\n",
       "      <td>0</td>\n",
       "      <td>44</td>\n",
       "      <td>37</td>\n",
       "      <td>31</td>\n",
       "      <td>0</td>\n",
       "      <td>0</td>\n",
       "      <td>58</td>\n",
       "      <td>0</td>\n",
       "      <td>0</td>\n",
       "      <td>0</td>\n",
       "    </tr>\n",
       "    <tr>\n",
       "      <th>1</th>\n",
       "      <td>28</td>\n",
       "      <td>0500000US01055</td>\n",
       "      <td>1055</td>\n",
       "      <td>Etowah County, Alabama</td>\n",
       "      <td>39522</td>\n",
       "      <td>505</td>\n",
       "      <td>27098</td>\n",
       "      <td>666</td>\n",
       "      <td>19676</td>\n",
       "      <td>701</td>\n",
       "      <td>...</td>\n",
       "      <td>0</td>\n",
       "      <td>153</td>\n",
       "      <td>62</td>\n",
       "      <td>52</td>\n",
       "      <td>0</td>\n",
       "      <td>0</td>\n",
       "      <td>0</td>\n",
       "      <td>0</td>\n",
       "      <td>59</td>\n",
       "      <td>0</td>\n",
       "    </tr>\n",
       "    <tr>\n",
       "      <th>2</th>\n",
       "      <td>37</td>\n",
       "      <td>0500000US01073</td>\n",
       "      <td>1073</td>\n",
       "      <td>Jefferson County, Alabama</td>\n",
       "      <td>261773</td>\n",
       "      <td>1411</td>\n",
       "      <td>165637</td>\n",
       "      <td>1668</td>\n",
       "      <td>107619</td>\n",
       "      <td>1530</td>\n",
       "      <td>...</td>\n",
       "      <td>0</td>\n",
       "      <td>72</td>\n",
       "      <td>57</td>\n",
       "      <td>47</td>\n",
       "      <td>0</td>\n",
       "      <td>1</td>\n",
       "      <td>6</td>\n",
       "      <td>7</td>\n",
       "      <td>44</td>\n",
       "      <td>1</td>\n",
       "    </tr>\n",
       "    <tr>\n",
       "      <th>3</th>\n",
       "      <td>49</td>\n",
       "      <td>0500000US01097</td>\n",
       "      <td>1097</td>\n",
       "      <td>Mobile County, Alabama</td>\n",
       "      <td>154261</td>\n",
       "      <td>1149</td>\n",
       "      <td>102867</td>\n",
       "      <td>1451</td>\n",
       "      <td>68560</td>\n",
       "      <td>1368</td>\n",
       "      <td>...</td>\n",
       "      <td>0</td>\n",
       "      <td>53</td>\n",
       "      <td>38</td>\n",
       "      <td>17</td>\n",
       "      <td>0</td>\n",
       "      <td>0</td>\n",
       "      <td>0</td>\n",
       "      <td>20</td>\n",
       "      <td>39</td>\n",
       "      <td>0</td>\n",
       "    </tr>\n",
       "    <tr>\n",
       "      <th>4</th>\n",
       "      <td>52</td>\n",
       "      <td>0500000US01103</td>\n",
       "      <td>1103</td>\n",
       "      <td>Morgan County, Alabama</td>\n",
       "      <td>46164</td>\n",
       "      <td>567</td>\n",
       "      <td>31712</td>\n",
       "      <td>854</td>\n",
       "      <td>23474</td>\n",
       "      <td>724</td>\n",
       "      <td>...</td>\n",
       "      <td>0</td>\n",
       "      <td>56</td>\n",
       "      <td>50</td>\n",
       "      <td>29</td>\n",
       "      <td>0</td>\n",
       "      <td>0</td>\n",
       "      <td>0</td>\n",
       "      <td>0</td>\n",
       "      <td>59</td>\n",
       "      <td>0</td>\n",
       "    </tr>\n",
       "  </tbody>\n",
       "</table>\n",
       "<p>5 rows × 152 columns</p>\n",
       "</div>"
      ],
      "text/plain": [
       "   index          GEO.id GEO.id2          GEO.display-label HC01_EST_VC01  \\\n",
       "0     25  0500000US01049    1049     DeKalb County, Alabama         24811   \n",
       "1     28  0500000US01055    1055     Etowah County, Alabama         39522   \n",
       "2     37  0500000US01073    1073  Jefferson County, Alabama        261773   \n",
       "3     49  0500000US01097    1097     Mobile County, Alabama        154261   \n",
       "4     52  0500000US01103    1103     Morgan County, Alabama         46164   \n",
       "\n",
       "  HC01_MOE_VC01 HC02_EST_VC01 HC02_MOE_VC01 HC03_EST_VC01 HC03_MOE_VC01  \\\n",
       "0           497         17495           651         13443           637   \n",
       "1           505         27098           666         19676           701   \n",
       "2          1411        165637          1668        107619          1530   \n",
       "3          1149        102867          1451         68560          1368   \n",
       "4           567         31712           854         23474           724   \n",
       "\n",
       "     ...    Hazardous Days Max AQI 90th Percentile AQI Median AQI Days CO  \\\n",
       "0    ...                 0      44                  37         31       0   \n",
       "1    ...                 0     153                  62         52       0   \n",
       "2    ...                 0      72                  57         47       0   \n",
       "3    ...                 0      53                  38         17       0   \n",
       "4    ...                 0      56                  50         29       0   \n",
       "\n",
       "  Days NO2 Days Ozone Days SO2 Days PM2.5 Days PM10  \n",
       "0        0         58        0          0         0  \n",
       "1        0          0        0         59         0  \n",
       "2        1          6        7         44         1  \n",
       "3        0          0       20         39         0  \n",
       "4        0          0        0         59         0  \n",
       "\n",
       "[5 rows x 152 columns]"
      ]
     },
     "execution_count": 202,
     "metadata": {},
     "output_type": "execute_result"
    }
   ],
   "source": [
    "merged.head()"
   ]
  },
  {
   "cell_type": "code",
   "execution_count": 203,
   "metadata": {},
   "outputs": [
    {
     "data": {
      "text/plain": [
       "HC02_EST_VC04               Families; Estimate; $15,000 to $24,999\n",
       "HC02_MOE_VC04        Families; Margin of Error; $15,000 to $24,999\n",
       "HC03_EST_VC04    Married-couple families; Estimate; $15,000 to ...\n",
       "HC03_MOE_VC04    Married-couple families; Margin of Error; $15,...\n",
       "HC04_EST_VC04    Nonfamily households; Estimate; $15,000 to $24...\n",
       "HC04_MOE_VC04    Nonfamily households; Margin of Error; $15,000...\n",
       "HC01_EST_VC05             Households; Estimate; $25,000 to $34,999\n",
       "HC01_MOE_VC05      Households; Margin of Error; $25,000 to $34,999\n",
       "HC02_EST_VC05               Families; Estimate; $25,000 to $34,999\n",
       "HC02_MOE_VC05        Families; Margin of Error; $25,000 to $34,999\n",
       "HC03_EST_VC05    Married-couple families; Estimate; $25,000 to ...\n",
       "HC03_MOE_VC05    Married-couple families; Margin of Error; $25,...\n",
       "HC04_EST_VC05    Nonfamily households; Estimate; $25,000 to $34...\n",
       "HC04_MOE_VC05    Nonfamily households; Margin of Error; $25,000...\n",
       "HC01_EST_VC06             Households; Estimate; $35,000 to $49,999\n",
       "HC01_MOE_VC06      Households; Margin of Error; $35,000 to $49,999\n",
       "HC02_EST_VC06               Families; Estimate; $35,000 to $49,999\n",
       "HC02_MOE_VC06        Families; Margin of Error; $35,000 to $49,999\n",
       "HC03_EST_VC06    Married-couple families; Estimate; $35,000 to ...\n",
       "HC03_MOE_VC06    Married-couple families; Margin of Error; $35,...\n",
       "HC04_EST_VC06    Nonfamily households; Estimate; $35,000 to $49...\n",
       "HC04_MOE_VC06    Nonfamily households; Margin of Error; $35,000...\n",
       "HC01_EST_VC07             Households; Estimate; $50,000 to $74,999\n",
       "HC01_MOE_VC07      Households; Margin of Error; $50,000 to $74,999\n",
       "HC02_EST_VC07               Families; Estimate; $50,000 to $74,999\n",
       "HC02_MOE_VC07        Families; Margin of Error; $50,000 to $74,999\n",
       "HC03_EST_VC07    Married-couple families; Estimate; $50,000 to ...\n",
       "HC03_MOE_VC07    Married-couple families; Margin of Error; $50,...\n",
       "HC04_EST_VC07    Nonfamily households; Estimate; $50,000 to $74...\n",
       "HC04_MOE_VC07    Nonfamily households; Margin of Error; $50,000...\n",
       "                                       ...                        \n",
       "HC03_MOE_VC09    Married-couple families; Margin of Error; $100...\n",
       "HC04_EST_VC09    Nonfamily households; Estimate; $100,000 to $1...\n",
       "HC04_MOE_VC09    Nonfamily households; Margin of Error; $100,00...\n",
       "HC01_EST_VC10           Households; Estimate; $150,000 to $199,999\n",
       "HC01_MOE_VC10    Households; Margin of Error; $150,000 to $199,999\n",
       "HC02_EST_VC10             Families; Estimate; $150,000 to $199,999\n",
       "HC02_MOE_VC10      Families; Margin of Error; $150,000 to $199,999\n",
       "HC03_EST_VC10    Married-couple families; Estimate; $150,000 to...\n",
       "HC03_MOE_VC10    Married-couple families; Margin of Error; $150...\n",
       "HC04_EST_VC10    Nonfamily households; Estimate; $150,000 to $1...\n",
       "HC04_MOE_VC10    Nonfamily households; Margin of Error; $150,00...\n",
       "HC01_EST_VC11               Households; Estimate; $200,000 or more\n",
       "HC01_MOE_VC11        Households; Margin of Error; $200,000 or more\n",
       "HC02_EST_VC11                 Families; Estimate; $200,000 or more\n",
       "HC02_MOE_VC11          Families; Margin of Error; $200,000 or more\n",
       "HC03_EST_VC11    Married-couple families; Estimate; $200,000 or...\n",
       "HC03_MOE_VC11    Married-couple families; Margin of Error; $200...\n",
       "HC04_EST_VC11     Nonfamily households; Estimate; $200,000 or more\n",
       "HC04_MOE_VC11    Nonfamily households; Margin of Error; $200,00...\n",
       "HC01_EST_VC13        Households; Estimate; Median income (dollars)\n",
       "HC01_MOE_VC13    Households; Margin of Error; Median income (do...\n",
       "HC02_EST_VC13          Families; Estimate; Median income (dollars)\n",
       "HC02_MOE_VC13    Families; Margin of Error; Median income (doll...\n",
       "HC03_EST_VC13    Married-couple families; Estimate; Median inco...\n",
       "HC03_MOE_VC13    Married-couple families; Margin of Error; Medi...\n",
       "HC04_EST_VC13    Nonfamily households; Estimate; Median income ...\n",
       "HC04_MOE_VC13    Nonfamily households; Margin of Error; Median ...\n",
       "HC01_EST_VC15          Households; Estimate; Mean income (dollars)\n",
       "HC01_MOE_VC15    Households; Margin of Error; Mean income (doll...\n",
       "HC02_EST_VC15            Families; Estimate; Mean income (dollars)\n",
       "Name: 0, Length: 73, dtype: object"
      ]
     },
     "execution_count": 203,
     "metadata": {},
     "output_type": "execute_result"
    }
   ],
   "source": [
    "income_columns.loc['HC02_EST_VC04':'HC02_EST_VC15']"
   ]
  },
  {
   "cell_type": "code",
   "execution_count": 204,
   "metadata": {},
   "outputs": [],
   "source": [
    "median_incomes = merged['HC02_EST_VC13'].astype(int)\n"
   ]
  },
  {
   "cell_type": "code",
   "execution_count": 205,
   "metadata": {},
   "outputs": [],
   "source": [
    "median_aqi = merged['Median AQI'].astype(int)\n",
    "percentile_aqi = merged['90th Percentile AQI'].astype(int)\n",
    "pm_aqi = merged['Days PM2.5'].astype(int)"
   ]
  },
  {
   "cell_type": "code",
   "execution_count": 206,
   "metadata": {},
   "outputs": [
    {
     "data": {
      "text/plain": [
       "(0, 100)"
      ]
     },
     "execution_count": 206,
     "metadata": {},
     "output_type": "execute_result"
    },
    {
     "data": {
      "image/png": "[encoded data removed]",
      "text/plain": [
       "<Figure size 432x288 with 1 Axes>"
      ]
     },
     "metadata": {},
     "output_type": "display_data"
    }
   ],
   "source": [
    "plt.scatter(median_incomes, pm_aqi)\n",
    "plt.ylim(0, 100) "
   ]
  },
  {
   "cell_type": "code",
   "execution_count": null,
   "metadata": {},
   "outputs": [],
   "source": []
  },
  {
   "cell_type": "code",
   "execution_count": 207,
   "metadata": {},
   "outputs": [],
   "source": [
    "family_counts = merged['HC02_EST_VC01']"
   ]
  },
  {
   "cell_type": "code",
   "execution_count": 208,
   "metadata": {},
   "outputs": [
    {
     "data": {
      "image/png": "[encoded data removed]",
      "text/plain": [
       "<Figure size 432x288 with 1 Axes>"
      ]
     },
     "metadata": {},
     "output_type": "display_data"
    }
   ],
   "source": [
    "plt.hist(family_counts.sample(500).astype(int).values, bins=range(0, 50000, 1000));"
   ]
  },
  {
   "cell_type": "code",
   "execution_count": 212,
   "metadata": {},
   "outputs": [],
   "source": [
    "cutoff = 30000\n",
    "urban = merged[merged['HC01_EST_VC01'].astype(int) > cutoff]"
   ]
  },
  {
   "cell_type": "code",
   "execution_count": 213,
   "metadata": {},
   "outputs": [
    {
     "data": {
      "text/plain": [
       "<matplotlib.collections.PathCollection at 0x123719f98>"
      ]
     },
     "execution_count": 213,
     "metadata": {},
     "output_type": "execute_result"
    },
    {
     "data": {
      "image/png": "[encoded data removed]",
      "text/plain": [
       "<Figure size 432x288 with 1 Axes>"
      ]
     },
     "metadata": {},
     "output_type": "display_data"
    }
   ],
   "source": [
    "median_incomes = urban['HC02_EST_VC13'].astype(int)\n",
    "median_aqi = urban['Median AQI'].astype(int)\n",
    "pm_aqi = urban['Days PM2.5'].astype(int)\n",
    "plt.scatter(median_incomes, pm_aqi)"
   ]
  },
  {
   "cell_type": "code",
   "execution_count": null,
   "metadata": {},
   "outputs": [],
   "source": []
  },
  {
   "cell_type": "code",
   "execution_count": null,
   "metadata": {},
   "outputs": [],
   "source": []
  }
 ],
 "metadata": {
  "anaconda-cloud": {},
  "kernelspec": {
   "display_name": "medium-xXExZUyx",
   "language": "python",
   "name": "medium-xxexzuyx"
  },
  "language_info": {
   "codemirror_mode": {
    "name": "ipython",
    "version": 3
   },
   "file_extension": ".py",
   "mimetype": "text/x-python",
   "name": "python",
   "nbconvert_exporter": "python",
   "pygments_lexer": "ipython3",
   "version": "3.7.0"
  }
 },
 "nbformat": 4,
 "nbformat_minor": 2
}
